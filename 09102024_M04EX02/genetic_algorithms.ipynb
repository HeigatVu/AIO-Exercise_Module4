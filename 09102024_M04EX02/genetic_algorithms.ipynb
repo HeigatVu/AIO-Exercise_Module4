{
 "cells": [
  {
   "cell_type": "code",
   "execution_count": 1,
   "metadata": {},
   "outputs": [],
   "source": [
    "import numpy as np\n",
    "import matplotlib.pyplot as plt\n",
    "import random\n",
    "\n",
    "random.seed(0)\n",
    "%matplotlib inline"
   ]
  },
  {
   "cell_type": "code",
   "execution_count": 2,
   "metadata": {},
   "outputs": [],
   "source": [
    "def load_data(filename= \"./advertising.csv\"):\n",
    "    data = np.genfromtxt(filename, dtype= None, delimiter= \",\", skip_header= True)\n",
    "    feature_X = data[:, : 3]\n",
    "    print(feature_X.shape)\n",
    "    sales_Y = data[:, 3]\n",
    "    print(sales_Y.shape)\n",
    "    feature_X_b = np.hstack((np.ones((sales_Y.shape[0], 1)), feature_X))\n",
    "\n",
    "    return feature_X_b, sales_Y"
   ]
  },
  {
   "cell_type": "code",
   "execution_count": 3,
   "metadata": {},
   "outputs": [
    {
     "name": "stdout",
     "output_type": "stream",
     "text": [
      "(200, 3)\n",
      "(200,)\n"
     ]
    }
   ],
   "source": [
    "X, y = load_data()"
   ]
  },
  {
   "cell_type": "code",
   "execution_count": 4,
   "metadata": {},
   "outputs": [],
   "source": [
    "def create_individual(n= 4, bound= 10):\n",
    "    individual= []\n",
    "    \n",
    "    for _ in range(0, n, 1):\n",
    "        gene = random.uniform(-bound / 2, bound / 2)\n",
    "        individual.append(gene)\n",
    "        \n",
    "    return individual "
   ]
  },
  {
   "cell_type": "code",
   "execution_count": 5,
   "metadata": {},
   "outputs": [
    {
     "name": "stdout",
     "output_type": "stream",
     "text": [
      "[3.4442185152504816, 2.5795440294030243, -0.79428419169155, -2.4108324970703663]\n"
     ]
    }
   ],
   "source": [
    "individual = create_individual()\n",
    "print(individual)"
   ]
  },
  {
   "cell_type": "code",
   "execution_count": 6,
   "metadata": {},
   "outputs": [],
   "source": [
    "def compute_loss(individual):\n",
    "    theta = np.array(individual)\n",
    "    y_hat = X.dot(theta)    \n",
    "    loss = np.multiply((y_hat - y), (y_hat - y)).mean()\n",
    "    \n",
    "    return loss\n",
    "\n",
    "def compute_fitness(individual):\n",
    "    loss = compute_loss(individual)\n",
    "    fitness_value = 0\n",
    "    \n",
    "    fitness_value = 1 / (loss + 1)\n",
    "    \n",
    "    return fitness_value"
   ]
  },
  {
   "cell_type": "code",
   "execution_count": 7,
   "metadata": {},
   "outputs": [
    {
     "name": "stdout",
     "output_type": "stream",
     "text": [
      "1.0185991537088997e-06\n"
     ]
    }
   ],
   "source": [
    "individual = [4.09, 4.82, 3.10, 4.02]\n",
    "fitness_score = compute_fitness(individual)\n",
    "print(fitness_score)"
   ]
  },
  {
   "cell_type": "code",
   "execution_count": 8,
   "metadata": {},
   "outputs": [],
   "source": [
    "def crossover(individual1, individual2, crossover_rate= 0.9):\n",
    "    individual1_new = individual1.copy()\n",
    "    individual2_new = individual2.copy()\n",
    "    \n",
    "    if random.random() < crossover_rate:\n",
    "        point = random.randint(1, len(individual1) - 1)\n",
    "        # individual1_new = individual1_new[point:] + individual2_new[point:]\n",
    "        # individual2_new = individual2_new[point:] + individual1_new[point:]\n",
    "        \n",
    "        print(f\"Crossover occurred at point {point}\")\n",
    "        individual1_new[point:], individual2_new[point:] = individual2_new[point:], individual1_new[point:]\n",
    "    else:\n",
    "        print(\"No crossover occurred\")\n",
    "\n",
    "        \n",
    "    return individual1_new, individual2_new"
   ]
  },
  {
   "cell_type": "code",
   "execution_count": 9,
   "metadata": {},
   "outputs": [
    {
     "name": "stdout",
     "output_type": "stream",
     "text": [
      "No crossover occurred\n",
      "individual1: [4.09, 4.82, 3.1, 4.02]\n",
      "individual2: [3.44, 2.57, -0.79, -2.41]\n"
     ]
    }
   ],
   "source": [
    "individual1 = [4.09, 4.82, 3.10, 4.02]\n",
    "individual2 = [3.44, 2.57, -0.79, -2.41]\n",
    "individual1_new, individual2_new = crossover(individual1, individual2, 0.5)\n",
    "print(\"individual1:\", individual1_new)\n",
    "print(\"individual2:\", individual2_new)"
   ]
  },
  {
   "cell_type": "code",
   "execution_count": 10,
   "metadata": {},
   "outputs": [],
   "source": [
    "def mutation(individual, mutation_rate= 0.05):\n",
    "    individual_m = individual.copy()\n",
    "    \n",
    "    for i in individual:\n",
    "        if random.random() < mutation_rate:\n",
    "            mutation = random.uniform(-0.5, 0.5)\n",
    "            i += mutation\n",
    "            \n",
    "    return individual_m"
   ]
  },
  {
   "cell_type": "code",
   "execution_count": 11,
   "metadata": {},
   "outputs": [
    {
     "name": "stdout",
     "output_type": "stream",
     "text": [
      "True\n"
     ]
    }
   ],
   "source": [
    "before_mutation = [4.09, 4.82, 3.10, 4.02]\n",
    "after_mutation = mutation(before_mutation, mutation_rate= 2.0)\n",
    "\n",
    "print(before_mutation == after_mutation)"
   ]
  },
  {
   "cell_type": "code",
   "execution_count": 12,
   "metadata": {},
   "outputs": [],
   "source": [
    "def initialize_population(m):\n",
    "    population = [create_individual() for _ in range(m)]\n",
    "    return population"
   ]
  },
  {
   "cell_type": "code",
   "execution_count": 13,
   "metadata": {},
   "outputs": [],
   "source": [
    "def selection(sorted_old_population, m= 100):\n",
    "    index1 = random.randint(0, m - 1)\n",
    "    while True:\n",
    "        index2 = random.randint(0, m - 1)\n",
    "        if (index2 != index1):\n",
    "            break\n",
    "    \n",
    "    individual_s = sorted_old_population[index1]\n",
    "    if index2 > index1:\n",
    "        individual_s = sorted_old_population[index2]\n",
    "        \n",
    "    return individual_s"
   ]
  },
  {
   "cell_type": "code",
   "execution_count": 14,
   "metadata": {},
   "outputs": [],
   "source": [
    "def create_new_population(old_population, elitism= 2, gen= 1):\n",
    "    m = len(old_population)\n",
    "    sorted_population = sorted(old_population, key= compute_fitness)\n",
    "    \n",
    "    if gen % 1 == 0:\n",
    "        print(\"Best loss: \", compute_loss(sorted_population[m - 1]), \" with chromsome: \", sorted_population[m - 1])\n",
    "        \n",
    "    new_population = []\n",
    "    while len(new_population) < m-elitism:\n",
    "        # Selection\n",
    "        individual1_s = selection(sorted_population)\n",
    "        individual2_s = selection(sorted_population)\n",
    "        \n",
    "        # Crossover\n",
    "        individual1_new, individual2_new = crossover(individual1_s, individual2_s)\n",
    "        \n",
    "        # Mutation\n",
    "        individual1_new_m = mutation(individual1_new)\n",
    "        individual2_new_m = mutation(individual2_new)\n",
    "        \n",
    "        new_population.extend([individual1_new_m, individual2_new_m])\n",
    "        \n",
    "        \n",
    "    # Ensure the population size remains constant\n",
    "    new_population = new_population[:m - elitism]\n",
    "    \n",
    "    # Copy elitism chromosomes that have best fitness score to the next generation\n",
    "    for ind in sorted_population[:elitism]:\n",
    "        new_population.append(ind.copy())\n",
    "    \n",
    "    return new_population, compute_loss(sorted_population[m - 1])"
   ]
  },
  {
   "cell_type": "code",
   "execution_count": 15,
   "metadata": {},
   "outputs": [
    {
     "name": "stdout",
     "output_type": "stream",
     "text": [
      "Best loss:  123415.051528805  with chromsome:  [3.44, 2.57, -0.79, -2.41]\n"
     ]
    }
   ],
   "source": [
    "individual1 = [4.09, 4.82, 3.10, 4.02]\n",
    "individual2 = [3.44, 2.57, -0.79, -2.41]\n",
    "\n",
    "old_population = [individual1, individual2]\n",
    "create_new_population, _ = create_new_population(old_population)"
   ]
  },
  {
   "cell_type": "code",
   "execution_count": 16,
   "metadata": {},
   "outputs": [],
   "source": [
    "def run_GA():\n",
    "    n_generations = 100\n",
    "    m = 600\n",
    "    population = initialize_population(m)\n",
    "    losses_list = []\n",
    "    for i in range(n_generations):\n",
    "        # Calculate fitness scores\n",
    "        fitness_scores = [compute_fitness(individual) for individual in population]\n",
    "        \n",
    "        # Find the best individual\n",
    "        best_individual = population[np.argmax(fitness_scores)]\n",
    "        best_loss = compute_loss(best_individual)\n",
    "        losses_list.append(best_loss)\n",
    "        \n",
    "        # Create new population\n",
    "        population, gen_best_loss = create_new_population(population, elitism=2, gen=i+1)\n",
    "        \n",
    "        if i % 10 == 0:  # Print progress every 10 generations\n",
    "            print(f\"Generation {i}: Best Loss = {gen_best_loss}\")\n",
    "    \n",
    "    # Find the overall best individual\n",
    "    final_fitness_scores = [compute_fitness(individual) for individual in population]\n",
    "    overall_best_individual = population[np.argmax(final_fitness_scores)]\n",
    "    overall_best_loss = compute_loss(overall_best_individual)\n",
    "    \n",
    "    print(f\"\\nFinal Best Loss: {overall_best_loss}\")\n",
    "    print(f\"Final Best Individual: {overall_best_individual}\")\n",
    "    \n",
    "    return losses_list, overall_best_individual"
   ]
  },
  {
   "cell_type": "code",
   "execution_count": 17,
   "metadata": {},
   "outputs": [],
   "source": [
    "def visualize_loss(losses_list):\n",
    "    plt.figure(figsize= (10, 6))\n",
    "    plt.plot(range(len(losses_list), losses_list))\n",
    "    plt.title(\"Best Loss Value per Generation\")\n",
    "    plt.xlabel(\"Generation\")\n",
    "    plt.ylabel(\"Loss value\")\n",
    "    plt.grid(True)\n",
    "    plt.show()"
   ]
  },
  {
   "cell_type": "code",
   "execution_count": 18,
   "metadata": {},
   "outputs": [
    {
     "ename": "TypeError",
     "evalue": "'list' object is not callable",
     "output_type": "error",
     "traceback": [
      "\u001b[0;31m---------------------------------------------------------------------------\u001b[0m",
      "\u001b[0;31mTypeError\u001b[0m                                 Traceback (most recent call last)",
      "Cell \u001b[0;32mIn[18], line 1\u001b[0m\n\u001b[0;32m----> 1\u001b[0m losses_list, _ \u001b[38;5;241m=\u001b[39m \u001b[43mrun_GA\u001b[49m\u001b[43m(\u001b[49m\u001b[43m)\u001b[49m\n\u001b[1;32m      2\u001b[0m visualize_loss(losses_list)\n",
      "Cell \u001b[0;32mIn[16], line 16\u001b[0m, in \u001b[0;36mrun_GA\u001b[0;34m()\u001b[0m\n\u001b[1;32m     13\u001b[0m losses_list\u001b[38;5;241m.\u001b[39mappend(best_loss)\n\u001b[1;32m     15\u001b[0m \u001b[38;5;66;03m# Create new population\u001b[39;00m\n\u001b[0;32m---> 16\u001b[0m population, gen_best_loss \u001b[38;5;241m=\u001b[39m \u001b[43mcreate_new_population\u001b[49m\u001b[43m(\u001b[49m\u001b[43mpopulation\u001b[49m\u001b[43m,\u001b[49m\u001b[43m \u001b[49m\u001b[43melitism\u001b[49m\u001b[38;5;241;43m=\u001b[39;49m\u001b[38;5;241;43m2\u001b[39;49m\u001b[43m,\u001b[49m\u001b[43m \u001b[49m\u001b[43mgen\u001b[49m\u001b[38;5;241;43m=\u001b[39;49m\u001b[43mi\u001b[49m\u001b[38;5;241;43m+\u001b[39;49m\u001b[38;5;241;43m1\u001b[39;49m\u001b[43m)\u001b[49m\n\u001b[1;32m     18\u001b[0m \u001b[38;5;28;01mif\u001b[39;00m i \u001b[38;5;241m%\u001b[39m \u001b[38;5;241m10\u001b[39m \u001b[38;5;241m==\u001b[39m \u001b[38;5;241m0\u001b[39m:  \u001b[38;5;66;03m# Print progress every 10 generations\u001b[39;00m\n\u001b[1;32m     19\u001b[0m     \u001b[38;5;28mprint\u001b[39m(\u001b[38;5;124mf\u001b[39m\u001b[38;5;124m\"\u001b[39m\u001b[38;5;124mGeneration \u001b[39m\u001b[38;5;132;01m{\u001b[39;00mi\u001b[38;5;132;01m}\u001b[39;00m\u001b[38;5;124m: Best Loss = \u001b[39m\u001b[38;5;132;01m{\u001b[39;00mgen_best_loss\u001b[38;5;132;01m}\u001b[39;00m\u001b[38;5;124m\"\u001b[39m)\n",
      "\u001b[0;31mTypeError\u001b[0m: 'list' object is not callable"
     ]
    }
   ],
   "source": [
    "losses_list, _ = run_GA()\n",
    "visualize_loss(losses_list)"
   ]
  },
  {
   "cell_type": "code",
   "execution_count": null,
   "metadata": {},
   "outputs": [],
   "source": []
  }
 ],
 "metadata": {
  "kernelspec": {
   "display_name": "aio2024-hw",
   "language": "python",
   "name": "python3"
  },
  "language_info": {
   "codemirror_mode": {
    "name": "ipython",
    "version": 3
   },
   "file_extension": ".py",
   "mimetype": "text/x-python",
   "name": "python",
   "nbconvert_exporter": "python",
   "pygments_lexer": "ipython3",
   "version": "3.11.9"
  }
 },
 "nbformat": 4,
 "nbformat_minor": 2
}
